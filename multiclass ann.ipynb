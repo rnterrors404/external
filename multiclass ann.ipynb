{
  "nbformat": 4,
  "nbformat_minor": 0,
  "metadata": {
    "colab": {
      "provenance": [],
      "authorship_tag": "ABX9TyM61yuBRxWsmhxrvUyVRLBc",
      "include_colab_link": true
    },
    "kernelspec": {
      "name": "python3",
      "display_name": "Python 3"
    },
    "language_info": {
      "name": "python"
    }
  },
  "cells": [
    {
      "cell_type": "markdown",
      "metadata": {
        "id": "view-in-github",
        "colab_type": "text"
      },
      "source": [
        "<a href=\"https://colab.research.google.com/github/rnterrors404/external/blob/main/multiclass%20ann.ipynb\" target=\"_parent\"><img src=\"https://colab.research.google.com/assets/colab-badge.svg\" alt=\"Open In Colab\"/></a>"
      ]
    },
    {
      "cell_type": "code",
      "execution_count": null,
      "metadata": {
        "id": "rLlNq19UmWzd"
      },
      "outputs": [],
      "source": [
        "import tensorflow\n",
        "from tensorflow import keras\n",
        "from tensorflow.keras import Sequential\n",
        "from tensorflow.keras.layers import Dense, Flatten\n",
        "\n",
        "(xtrain,ytrain),(xtest,ytest) = keras.datasets.mnist.load_data()\n",
        "xtrain.shape\n",
        "xtrain\n",
        "xtest.shape\n",
        "ytrain\n",
        "\n",
        "import matplotlib.pyplot as plt\n",
        "plt.imshow(xtrain[0])\n",
        "xtrain = xtrain/255\n",
        "xtest = xtest/255\n",
        "xtrain[0]\n",
        "regressor = Sequential()\n",
        "regressor.add(Flatten(input_shape = (28,28)))\n",
        "regressor.add(Dense(128,activation = 'relu'))\n",
        "regressor.add(Dense(10,activation = 'relu'))\n",
        "\n",
        "history = regressor.summary()\n",
        "regressor.compile(loss=\"sparse_categorical_crossentropy\",optimizer='Adam', metrics=['accuracy'])\n",
        "history= regressor.fit(xtrain,ytrain,epochs=10, validation_split=0.2)\n",
        "\n",
        "regressor.predict(xtest)\n",
        "y_prob = regressor.predict(xtest)\n",
        "y_prob.argmax( axis = 1)\n",
        "y_pred = y_prob.argmax(axis = 1)"
      ]
    },
    {
      "cell_type": "code",
      "source": [
        "plt.plot(history.history['loss'])\n",
        "\n"
      ],
      "metadata": {
        "id": "ALnuv1UKoE_S"
      },
      "execution_count": null,
      "outputs": []
    },
    {
      "cell_type": "code",
      "source": [
        "plt.plot(history.history['val_loss'])\n"
      ],
      "metadata": {
        "id": "Qu87E7qJoFDq"
      },
      "execution_count": null,
      "outputs": []
    },
    {
      "cell_type": "code",
      "source": [
        "\n",
        "plt.plot(history.history['val_accuracy'])"
      ],
      "metadata": {
        "id": "TlyKgVZXoFII"
      },
      "execution_count": null,
      "outputs": []
    },
    {
      "cell_type": "code",
      "source": [
        "from sklearn.metrics import accuracy_score\n",
        "accuracy_score(ytest,y_pred)\n",
        "xtest[0]\n",
        "plt.imshow(xtest[0])\n",
        "regressor.predict(xtest[0].reshape(1,28,28)).argmax(axis=1)"
      ],
      "metadata": {
        "id": "oHmG8L5GoFMX"
      },
      "execution_count": null,
      "outputs": []
    },
    {
      "cell_type": "code",
      "source": [
        "xtest[0]\n",
        "plt.imshow(xtest[0])\n",
        "regressor.predict(xtest[0].reshape(1,28,28)).argmax(axis=1)"
      ],
      "metadata": {
        "id": "gxPaiQI1oFQ0"
      },
      "execution_count": null,
      "outputs": []
    }
  ]
}