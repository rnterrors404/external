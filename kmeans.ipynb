{
  "cells": [
    {
      "cell_type": "markdown",
      "metadata": {
        "id": "view-in-github",
        "colab_type": "text"
      },
      "source": [
        "<a href=\"https://colab.research.google.com/github/rnterrors404/external/blob/main/kmeans.ipynb\" target=\"_parent\"><img src=\"https://colab.research.google.com/assets/colab-badge.svg\" alt=\"Open In Colab\"/></a>"
      ]
    },
    {
      "cell_type": "code",
      "source": [
        "# importing libraries    \n",
        "import numpy as nm    \n",
        "import matplotlib.pyplot as mtp    \n",
        "import pandas as pd    \n",
        "\n",
        "# Importing the dataset  \n",
        "dataset = pd.read_csv('mall_customers.csv')\n",
        "x = dataset.iloc[:, [3, 4]].values  \n",
        "\n",
        "#finding optimal number of clusters using the elbow method  \n",
        "from sklearn.cluster import KMeans\n",
        "#Initializing the list for the values of WCSS\n",
        "# Within Cluster Sum of Squares\n",
        "wcss_list= []\n",
        "  \n",
        "#Using for loop for iterations from 1 to 10.  \n",
        "for i in range(1, 11):  \n",
        "    kmeans = KMeans(n_clusters=i, init='k-means++', random_state= 42)  \n",
        "    kmeans.fit(x)  \n",
        "    wcss_list.append(kmeans.inertia_)  \n",
        "mtp.plot(range(1, 11), wcss_list)  \n",
        "mtp.title('The Elobw Method Graph')  \n",
        "mtp.xlabel('Number of clusters(k)')  \n",
        "mtp.ylabel('wcss_list')  \n",
        "mtp.show()  \n",
        "\n",
        "#training the K-means model on a dataset  \n",
        "kmeans = KMeans(n_clusters=5, init='k-means++', random_state= 42)  \n",
        "y_predict= kmeans.fit_predict(x)  \n",
        "\n",
        "#visulaizing the clusters  \n",
        "mtp.scatter(x[y_predict == 0, 0], x[y_predict == 0, 1], s = 100, c = 'blue', label = 'Cluster 1') #for first cluster\n",
        "mtp.scatter(x[y_predict == 1, 0], x[y_predict == 1, 1], s = 100, c = 'green', label = 'Cluster 2') #for second cluster  \n",
        "mtp.scatter(x[y_predict== 2, 0], x[y_predict == 2, 1], s = 100, c = 'red', label = 'Cluster 3') #for third cluster  \n",
        "mtp.scatter(x[y_predict == 3, 0], x[y_predict == 3, 1], s = 100, c = 'cyan', label = 'Cluster 4') #for fourth cluster  \n",
        "mtp.scatter(x[y_predict == 4, 0], x[y_predict == 4, 1], s = 100, c = 'magenta', label = 'Cluster 5') #for fifth cluster  \n",
        "mtp.scatter(kmeans.cluster_centers_[:, 0], kmeans.cluster_centers_[:, 1], s = 300, c = 'yellow', label = 'Centroid')   \n",
        "mtp.title('Clusters of customers')  \n",
        "mtp.xlabel('Annual Income (k$)')  \n",
        "mtp.ylabel('Spending Score (1-100)')  \n",
        "mtp.legend()  \n",
        "mtp.show()"
      ],
      "metadata": {
        "colab": {
          "base_uri": "https://localhost:8080/"
        },
        "id": "eG-V0H9g6gk_",
        "outputId": "466a1800-0ad4-4534-f51d-2fbab3a64fc2"
      },
      "execution_count": 22,
      "outputs": [
        {
          "output_type": "stream",
          "name": "stdout",
          "text": [
            "[0.92982456 0.9122807  0.9122807  0.94736842 0.92982456 0.98245614\n",
            " 0.9122807  0.96491228 0.94736842 0.94642857]\n",
            "0.9314586994727593\n"
          ]
        }
      ]
    }
  ],
  "metadata": {
    "colab": {
      "name": "Welcome to Colaboratory",
      "provenance": [],
      "include_colab_link": true
    },
    "kernelspec": {
      "display_name": "Python 3",
      "name": "python3"
    }
  },
  "nbformat": 4,
  "nbformat_minor": 0
}