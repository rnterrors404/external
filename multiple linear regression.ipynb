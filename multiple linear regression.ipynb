{
  "nbformat": 4,
  "nbformat_minor": 0,
  "metadata": {
    "colab": {
      "provenance": [],
      "authorship_tag": "ABX9TyPB6cZASPQUZMgsisW8DkuH",
      "include_colab_link": true
    },
    "kernelspec": {
      "name": "python3",
      "display_name": "Python 3"
    },
    "language_info": {
      "name": "python"
    }
  },
  "cells": [
    {
      "cell_type": "markdown",
      "metadata": {
        "id": "view-in-github",
        "colab_type": "text"
      },
      "source": [
        "<a href=\"https://colab.research.google.com/github/rnterrors404/external/blob/main/multiple%20linear%20regression.ipynb\" target=\"_parent\"><img src=\"https://colab.research.google.com/assets/colab-badge.svg\" alt=\"Open In Colab\"/></a>"
      ]
    },
    {
      "cell_type": "code",
      "execution_count": null,
      "metadata": {
        "id": "rLlNq19UmWzd"
      },
      "outputs": [],
      "source": [
        "import pandas as pd\n",
        "import numpy as np\n",
        "from sklearn.preprocessing import OneHotEncoder\n",
        "from sklearn.preprocessing import StandardScaler\n",
        "from sklearn.metrics import mean_squared_error, mean_absolute_error, r2_score\n",
        "from sklearn.compose import ColumnTransformer\n",
        "from sklearn.model_selection import train_test_split\n",
        "from sklearn.linear_model import LinearRegression\n",
        "# importing the dataset\n",
        "df = pd.read_csv('50_startups.csv')\n",
        "x = df.iloc[:,:-1].values\n",
        "y = df.iloc[:,-1].values\n",
        "\n",
        "# encoding\n",
        "ct = ColumnTransformer(transformers=[('encoder',OneHotEncoder(),[3])],remainder='passthrough')\n",
        "x = np.array(ct.fit_transform(x))\n",
        "\n",
        "# splitting the dataset into training and testing set\n",
        "xtrain,xtest,ytrain,ytest = train_test_split(x,y,test_size=0.30,random_state=0)\n",
        "\n",
        "# feature scaling\n",
        "sc = StandardScaler()\n",
        "xtrain = sc.fit_transform(xtrain)\n",
        "xtest = sc.transform(xtest)\n",
        "\n",
        "# trainging the linear regression model\n",
        "regressor = LinearRegression()\n",
        "regressor.fit(xtrain,ytrain)\n",
        "\n",
        "# predicting the new values\n",
        "ypred = regressor.predict(xtest)\n",
        "\n",
        "# model evaluation\n",
        "print(mean_squared_error(ytest,ypred))\n",
        "print(mean_absolute_error(ytest,ypred))\n",
        "print(np.sqrt(mean_squared_error(ytest,ypred)))\n",
        "print(r2_score(ytest,ypred))"
      ]
    }
  ]
}