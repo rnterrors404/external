{
  "cells": [
    {
      "cell_type": "markdown",
      "metadata": {
        "id": "view-in-github",
        "colab_type": "text"
      },
      "source": [
        "<a href=\"https://colab.research.google.com/github/rnterrors404/external/blob/main/linear%20algebra.ipynb\" target=\"_parent\"><img src=\"https://colab.research.google.com/assets/colab-badge.svg\" alt=\"Open In Colab\"/></a>"
      ]
    },
    {
      "cell_type": "code",
      "source": [
        "import numpy as np\n",
        "import numpy.linalg as lp\n",
        "\n",
        "a = np.array([[1,2,3,4],\n",
        "                    [5,6,7,8]])\n",
        "\n",
        "b = np.array([[9,0,1,2],\n",
        "                    [3,4,7,8]])\n",
        "\n",
        "# addition\n",
        "c = a+b\n",
        "print(\"addition\")\n",
        "print(c)\n",
        "print()\n",
        "\n",
        "# subtraction\n",
        "d = a- b\n",
        "print(\"subtraction\")\n",
        "print(d)\n",
        "print()\n",
        "\n",
        "# multiplication\n",
        "a1 = np.array([[1,2],[3,4]])\n",
        "b1 = np.array([[5,6],[7,8]])\n",
        "m = np.dot(a1,b1)\n",
        "print('multiplication')\n",
        "print(m)\n",
        "print()\n",
        "\n",
        "# transpose\n",
        "t = np.transpose(a)\n",
        "print('transpose')\n",
        "print(t)\n",
        "print()\n",
        "\n",
        "# determinat\n",
        "e = lp.det(b1)\n",
        "print('determinant')\n",
        "print(e)\n",
        "print()\n",
        "\n",
        "# inverse\n",
        "i = lp.inv(a1)\n",
        "print(\"inverse\")\n",
        "print(i)\n",
        "print()\n",
        "\n",
        "# eigen\n",
        "g = lp.eig(a1)\n",
        "print(\"eigen\")\n",
        "print(g)\n",
        "print()"
      ],
      "metadata": {
        "colab": {
          "base_uri": "https://localhost:8080/"
        },
        "id": "eG-V0H9g6gk_",
        "outputId": "874e20ae-1a57-440b-f915-ce7a6ca2c252"
      },
      "execution_count": 7,
      "outputs": [
        {
          "output_type": "stream",
          "name": "stdout",
          "text": [
            "addition\n",
            "[[10  2  4  6]\n",
            " [ 8 10 14 16]]\n",
            "\n",
            "subtraction\n",
            "[[-8  2  2  2]\n",
            " [ 2  2  0  0]]\n",
            "\n",
            "multiplication\n",
            "[[19 22]\n",
            " [43 50]]\n",
            "\n",
            "transpose\n",
            "[[1 5]\n",
            " [2 6]\n",
            " [3 7]\n",
            " [4 8]]\n",
            "\n",
            "determinant\n",
            "-2.000000000000005\n",
            "\n",
            "inverse\n",
            "[[-2.   1. ]\n",
            " [ 1.5 -0.5]]\n",
            "\n",
            "eigen\n",
            "(array([-0.37228132,  5.37228132]), array([[-0.82456484, -0.41597356],\n",
            "       [ 0.56576746, -0.90937671]]))\n",
            "\n"
          ]
        }
      ]
    }
  ],
  "metadata": {
    "colab": {
      "name": "Welcome to Colaboratory",
      "provenance": [],
      "include_colab_link": true
    },
    "kernelspec": {
      "display_name": "Python 3",
      "name": "python3"
    }
  },
  "nbformat": 4,
  "nbformat_minor": 0
}