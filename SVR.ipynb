{
  "nbformat": 4,
  "nbformat_minor": 0,
  "metadata": {
    "colab": {
      "provenance": [],
      "authorship_tag": "ABX9TyOyTxB4qqw7Igwcfc4zb2EB",
      "include_colab_link": true
    },
    "kernelspec": {
      "name": "python3",
      "display_name": "Python 3"
    },
    "language_info": {
      "name": "python"
    }
  },
  "cells": [
    {
      "cell_type": "markdown",
      "metadata": {
        "id": "view-in-github",
        "colab_type": "text"
      },
      "source": [
        "<a href=\"https://colab.research.google.com/github/rnterrors404/external/blob/main/SVR.ipynb\" target=\"_parent\"><img src=\"https://colab.research.google.com/assets/colab-badge.svg\" alt=\"Open In Colab\"/></a>"
      ]
    },
    {
      "cell_type": "code",
      "execution_count": null,
      "metadata": {
        "id": "rLlNq19UmWzd"
      },
      "outputs": [],
      "source": [
        "import pandas as pd\n",
        "import matplotlib.pyplot as plt\n",
        "import numpy as np\n",
        "from sklearn.preprocessing import StandardScaler\n",
        "from sklearn.svm import SVR\n",
        "\n",
        "df = pd.read_csv(\"position_salaries.csv\")\n",
        "print(df)\n",
        "\n",
        "x = df.iloc[:,1:-1].values\n",
        "y = df.iloc[:,-1].values\n",
        "print(x)\n",
        "y = y.reshape(-1,1)\n",
        "\n",
        "print(y)\n",
        "\n",
        "\n",
        "sc_x = StandardScaler()\n",
        "sc_y = StandardScaler()\n",
        "X = sc_x.fit_transform(x)\n",
        "Y = sc_y.fit_transform(y)\n",
        "print(X)\n",
        "print(Y)\n",
        "\n",
        "regressor= SVR(kernel='rbf')\n",
        "regressor.fit(x,y)\n",
        "\n",
        "sc_y.inverse_transform(regressor.predict(sc_x.transform([[6.5]])).reshape(-1,1))\n",
        "\n",
        "plt.scatter(sc_x.inverse_transform(x),sc_y.inverse_transform(y), color='red')\n",
        "plt.plot(sc_x.inverse_transform(x),sc_y.inverse_transform(y), color='blue')\n",
        "plt.title('Truth or bluff(SVR)')\n",
        "plt.xlabel('Position Level')\n",
        "plt.ylabel('Salary')\n",
        "plt.show()\n",
        "\n",
        "\n",
        "x_grid = np.arange(min(sc_x.inverse_transform(x)), max(sc_x.inverse_transform(x)), 0.1)\n",
        "x_grid = x_grid.reshape((len(x_grid), 1))\n",
        "plt.scatter(sc_x.inverse_transform(x), sc_y.inverse_transform(y), color = 'red')\n",
        "plt.plot(sc_x.inverse_transform(x), sc_y.inverse_transform(regressor.predict(y).reshape(-1,1)) ,color = 'blue')\n",
        "plt.title('Truth or Bluff (SVR)')\n",
        "plt.xlabel('Position level')\n",
        "plt.ylabel('Salary')\n",
        "plt.show()\n",
        "\n"
      ]
    }
  ]
}