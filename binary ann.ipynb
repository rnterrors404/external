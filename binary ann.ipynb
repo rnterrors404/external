{
  "nbformat": 4,
  "nbformat_minor": 0,
  "metadata": {
    "colab": {
      "provenance": [],
      "authorship_tag": "ABX9TyPXL2vWi43K2yoET2ETK1IN",
      "include_colab_link": true
    },
    "kernelspec": {
      "name": "python3",
      "display_name": "Python 3"
    },
    "language_info": {
      "name": "python"
    }
  },
  "cells": [
    {
      "cell_type": "markdown",
      "metadata": {
        "id": "view-in-github",
        "colab_type": "text"
      },
      "source": [
        "<a href=\"https://colab.research.google.com/github/rnterrors404/external/blob/main/binary%20ann.ipynb\" target=\"_parent\"><img src=\"https://colab.research.google.com/assets/colab-badge.svg\" alt=\"Open In Colab\"/></a>"
      ]
    },
    {
      "cell_type": "code",
      "execution_count": null,
      "metadata": {
        "id": "rLlNq19UmWzd"
      },
      "outputs": [],
      "source": [
        "# importing the libraries\n",
        "import pandas as pd\n",
        "import numpy as np\n",
        "import tensorflow as tf\n",
        "from sklearn.preprocessing import LabelEncoder, OneHotEncoder\n",
        "from sklearn.compose import ColumnTransformer\n",
        "from sklearn.model_selection import train_test_split\n",
        "from sklearn.preprocessing import StandardScaler\n",
        "from sklearn.metrics import confusion_matrix, accuracy_score\n",
        "\n",
        "# part1 data preprocessing\n",
        "# importing the dataset\n",
        "df = pd.read_csv('Churn_modelling.csv')\n",
        "x = df.iloc[:,3:-1].values\n",
        "y = df.iloc[:,-1].values\n",
        "\n",
        "# label encoding\n",
        "le = LabelEncoder()\n",
        "x[:,2] = le.fit_transform(x[:,2])\n",
        "\n",
        "\n",
        "# onehotencoder geography\n",
        "ct = ColumnTransformer(transformers=[('encoder',OneHotEncoder(), [1])],remainder='passthrough')\n",
        "X = np.array(ct.fit_transform(x))\n",
        "print(X)\n",
        "# splitting the dataset into traning and testing set\n",
        "xtrain ,xtest, ytrain, ytest = train_test_split(X,y,test_size=0.2,random_state=0)\n",
        "\n",
        "\n",
        "# feature scaling\n",
        "sc = StandardScaler()\n",
        "xtrain = sc.fit_transform(xtrain)\n",
        "xtest = sc.transform(xtest)\n",
        "\n",
        "# part2 building the ANN model\n",
        "ann = tf.keras.models.Sequential()\n",
        "# adding the input layer and first hidden layer\n",
        "ann.add(tf.keras.layers.Dense(units=3,activation='relu'))\n",
        "\n",
        "# adding the second hidden layer\n",
        "ann.add(tf.keras.layers.Dense(units=3,activation='relu'))\n",
        "ann.add(tf.keras.layers.Dense(units=1,activation='sigmoid'))\n",
        "\n",
        "# part3 training the ANN model\n",
        "# training the ANN on the training set\n",
        "ann.compile(optimizer='adam',loss='binary_crossentropy',metrics=['accuracy'])\n",
        "ann.fit(xtrain, ytrain, batch_size=32, epochs=10)\n",
        "# part4 making the prediction and evaluating the model\n",
        "print(ann.predict(sc.transform([[1,0,0,600,1,40,3,60000,2,1,1,5000]])>0.5))\n",
        "\n",
        "# predicting the test result\n",
        "ypred = ann.predict(xtest)\n",
        "ypred = (ypred > 0.5)\n",
        "\n",
        "# confusion matrix and accuracy score\n",
        "cm = confusion_matrix(ypred,ytest)\n",
        "print(cm)\n",
        "print(accuracy_score(ypred,ytest))"
      ]
    }
  ]
}