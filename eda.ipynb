{
  "nbformat": 4,
  "nbformat_minor": 0,
  "metadata": {
    "colab": {
      "provenance": [],
      "authorship_tag": "ABX9TyObDV5RyZ4Cn7Ubzr6np9R3",
      "include_colab_link": true
    },
    "kernelspec": {
      "name": "python3",
      "display_name": "Python 3"
    },
    "language_info": {
      "name": "python"
    }
  },
  "cells": [
    {
      "cell_type": "markdown",
      "metadata": {
        "id": "view-in-github",
        "colab_type": "text"
      },
      "source": [
        "<a href=\"https://colab.research.google.com/github/rnterrors404/external/blob/main/eda.ipynb\" target=\"_parent\"><img src=\"https://colab.research.google.com/assets/colab-badge.svg\" alt=\"Open In Colab\"/></a>"
      ]
    },
    {
      "cell_type": "code",
      "execution_count": null,
      "metadata": {
        "id": "rLlNq19UmWzd"
      },
      "outputs": [],
      "source": [
        "    import numpy as np\n",
        "    import matplotlib.pyplot as plt\n",
        "    import seaborn as sns\n",
        "    import pandas as pd\n",
        "\n",
        "    df = pd.read_csv('iris.csv')\n",
        "    df.head()\n",
        "\n",
        "    df.shape\n",
        "    df_setosa = df.loc[df['Species'] == 'Iris-setosa']\n",
        "    df_virginica = df.loc[df['Species'] == 'Iris-virginica']\n",
        "    df_versicolor = df.loc[df['Species'] == 'Iris-versicolor']\n",
        "\n",
        "    plt.plot(df_setosa['SepalLengthCm'], np.zeros_like(df_setosa['SepalLengthCm']))\n",
        "    plt.plot(df_virginica['SepalLengthCm'], np.zeros_like(df_virginica['SepalLengthCm']))\n",
        "    plt.plot(df_versicolor['SepalLengthCm'], np.zeros_like(df_versicolor['SepalLengthCm']))\n",
        "\n",
        "    plt.xlabel('PetalLengthCm')\n",
        "    plt.show()\n",
        "\n",
        "    sns.FacetGrid(df,hue = 'Species').map(plt.scatter,\"SepalLengthCm\",\"SepalLengthCm\").add_legend()\n",
        "    sns.pairplot(df, hue = \"Species\")"
      ]
    }
  ]
}