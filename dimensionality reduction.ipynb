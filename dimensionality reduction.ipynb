{
  "cells": [
    {
      "cell_type": "markdown",
      "metadata": {
        "id": "view-in-github",
        "colab_type": "text"
      },
      "source": [
        "<a href=\"https://colab.research.google.com/github/rnterrors404/external/blob/main/dimensionality%20reduction.ipynb\" target=\"_parent\"><img src=\"https://colab.research.google.com/assets/colab-badge.svg\" alt=\"Open In Colab\"/></a>"
      ]
    },
    {
      "cell_type": "code",
      "source": [
        "# importing the libraries\n",
        "import pandas as pd\n",
        "import numpy as np\n",
        "import matplotlib.pyplot as plt\n",
        "import seaborn as sns\n",
        "from sklearn.datasets import load_breast_cancer\n",
        "from sklearn.preprocessing import StandardScaler\n",
        "from sklearn.decomposition import PCA\n",
        "\n",
        "# importing the dataset\n",
        "cancer = load_breast_cancer()\n",
        "cancer.keys()\n",
        "#print(cancer['DESCR'])\n",
        "df = pd.DataFrame(cancer['data'],columns= cancer['feature_names'])\n",
        "df.head()\n",
        "# feature scaling\n",
        "sc = StandardScaler()\n",
        "sc.fit(df)\n",
        "StandardScaler(copy = True, with_mean=True, with_std=True)\n",
        "scaled_data = sc.transform(df)\n",
        "\n",
        "# plotting\n",
        "pca = PCA(n_components=2)\n",
        "pca.fit(scaled_data)\n",
        "x_pca = pca.transform(scaled_data)\n",
        "scaled_data.shape\n",
        "x_pca.shape\n",
        "\n",
        "\n",
        "plt.figure(figsize=(8,6))\n",
        "plt.scatter(x_pca[:,0],x_pca[:,1],c=cancer['target'],cmap='plasma')\n",
        "plt.xlabel('first principle component')\n",
        "plt.ylabel('second principle component')\n",
        "plt.show()"
      ],
      "metadata": {
        "colab": {
          "base_uri": "https://localhost:8080/"
        },
        "id": "eG-V0H9g6gk_",
        "outputId": "466a1800-0ad4-4534-f51d-2fbab3a64fc2"
      },
      "execution_count": 22,
      "outputs": [
        {
          "output_type": "stream",
          "name": "stdout",
          "text": [
            "[0.92982456 0.9122807  0.9122807  0.94736842 0.92982456 0.98245614\n",
            " 0.9122807  0.96491228 0.94736842 0.94642857]\n",
            "0.9314586994727593\n"
          ]
        }
      ]
    }
  ],
  "metadata": {
    "colab": {
      "name": "Welcome to Colaboratory",
      "provenance": [],
      "include_colab_link": true
    },
    "kernelspec": {
      "display_name": "Python 3",
      "name": "python3"
    }
  },
  "nbformat": 4,
  "nbformat_minor": 0
}