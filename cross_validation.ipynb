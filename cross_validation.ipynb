{
  "cells": [
    {
      "cell_type": "markdown",
      "metadata": {
        "id": "view-in-github",
        "colab_type": "text"
      },
      "source": [
        "<a href=\"https://colab.research.google.com/github/rnterrors404/external/blob/main/cross_validation.ipynb\" target=\"_parent\"><img src=\"https://colab.research.google.com/assets/colab-badge.svg\" alt=\"Open In Colab\"/></a>"
      ]
    },
    {
      "cell_type": "code",
      "source": [
        "# importing the libraries\n",
        "import pandas as pd\n",
        "import numpy as np\n",
        "from sklearn.model_selection import train_test_split\n",
        "from sklearn.tree import DecisionTreeClassifier\n",
        "from sklearn.model_selection import KFold, cross_val_score, LeaveOneOut\n",
        "\n",
        "# importing the dataset\n",
        "df = pd.read_csv('cancer_dataset.csv')\n",
        "x = df.iloc[:,2:-1]\n",
        "y = df.iloc[:,1]\n",
        "df.head()\n",
        "x.head()\n",
        "y.value_counts()\n",
        "\n",
        "# splitting the dataset into training and testing set\n",
        "xtrain,xtest,ytrain, ytest = train_test_split(x,y,test_size=0.30,random_state=1)\n",
        "\n",
        "# training the decision tree classification\n",
        "classfier = DecisionTreeClassifier()\n",
        "classfier.fit(xtrain,ytrain)\n",
        "\n",
        "# cross vaidation\n",
        "# kfold\n",
        "kfold = KFold(10)\n",
        "\n",
        "# cross_val_score\n",
        "result = cross_val_score(classfier,x,y,cv=kfold)\n",
        "print(result)\n",
        "\n",
        "# leaveoneout\n",
        "leaveoneout = LeaveOneOut()\n",
        "result = cross_val_score(classfier,x,y,cv=leaveoneout)\n",
        "print(np.mean(result))"
      ],
      "metadata": {
        "colab": {
          "base_uri": "https://localhost:8080/"
        },
        "id": "eG-V0H9g6gk_",
        "outputId": "466a1800-0ad4-4534-f51d-2fbab3a64fc2"
      },
      "execution_count": 22,
      "outputs": [
        {
          "output_type": "stream",
          "name": "stdout",
          "text": [
            "[0.92982456 0.9122807  0.9122807  0.94736842 0.92982456 0.98245614\n",
            " 0.9122807  0.96491228 0.94736842 0.94642857]\n",
            "0.9314586994727593\n"
          ]
        }
      ]
    }
  ],
  "metadata": {
    "colab": {
      "name": "Welcome to Colaboratory",
      "provenance": [],
      "include_colab_link": true
    },
    "kernelspec": {
      "display_name": "Python 3",
      "name": "python3"
    }
  },
  "nbformat": 4,
  "nbformat_minor": 0
}