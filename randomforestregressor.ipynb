{
  "cells": [
    {
      "cell_type": "markdown",
      "metadata": {
        "id": "view-in-github",
        "colab_type": "text"
      },
      "source": [
        "<a href=\"https://colab.research.google.com/github/rnterrors404/external/blob/main/randomforestregressor.ipynb\" target=\"_parent\"><img src=\"https://colab.research.google.com/assets/colab-badge.svg\" alt=\"Open In Colab\"/></a>"
      ]
    },
    {
      "cell_type": "code",
      "source": [
        "# random forest regression\n",
        "# importing the libraries\n",
        "import pandas as pd\n",
        "import numpy as np\n",
        "from sklearn.ensemble import RandomForestRegressor\n",
        "import matplotlib.pyplot as plt\n",
        "\n",
        "# importing the dataset\n",
        "df = pd.read_csv('position_salaries.csv')\n",
        "x = df.iloc[:,1:-1].values\n",
        "y = df.iloc[:,-1].values\n",
        "\n",
        "# training the model\n",
        "regressor = RandomForestRegressor(n_estimators=10, random_state=0) \n",
        "regressor.fit(x,y)\n",
        "\n",
        "# shaping\n",
        "x_grid = np.arange(min(x),max(x),0.01)\n",
        "x_grid = x_grid.reshape(len(x_grid),1)\n",
        "\n",
        "# plotting\n",
        "plt.scatter(x,y,color='red')\n",
        "plt.plot(x_grid,regressor.predict(x_grid),color='green')\n",
        "plt.show()"
      ],
      "metadata": {
        "colab": {
          "base_uri": "https://localhost:8080/",
          "height": 276
        },
        "id": "eG-V0H9g6gk_",
        "outputId": "4d9e6b4e-84de-4ed3-ae70-34ae20a477aa"
      },
      "execution_count": 20,
      "outputs": [
        {
          "output_type": "display_data",
          "data": {
            "text/plain": [
              "<Figure size 432x288 with 1 Axes>"
            ],
            "image/png": "[encoded data removed]"
          },
          "metadata": {
            "needs_background": "light"
          }
        }
      ]
    }
  ],
  "metadata": {
    "colab": {
      "name": "Welcome to Colaboratory",
      "provenance": [],
      "include_colab_link": true
    },
    "kernelspec": {
      "display_name": "Python 3",
      "name": "python3"
    }
  },
  "nbformat": 4,
  "nbformat_minor": 0
}